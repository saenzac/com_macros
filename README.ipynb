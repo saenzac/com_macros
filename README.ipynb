{
 "cells": [
  {
   "cell_type": "markdown",
   "metadata": {},
   "source": [
    "**System Identification using Excel + macros**\n",
    "\n",
    "For a system expressed in its Laplace representation:\n",
    "\n",
    "$ \\theta(s) =  \\frac{1}{a_3 s^3+a_2 s^2+a_1 s}  V(s) $\n",
    "\n",
    "We want to identify the parameters $a_1​$, $a_2​$ and $a_3​$ . Bilineal transformation is used to obtain a quasi-equivalent Zeta-transform which difference equation is:\n",
    "\n",
    "$\\theta[n] = a*V[n-3] + b*\\theta[n-3] + c*\\theta[n-2] + d*\\theta[n-1]$\n",
    "\n",
    "In the real system a voltage $V_{exp}$ (t) is applied to obtain the angular output $\\theta_{exp}(t)$ .\n",
    "\n",
    "We use the solver addin of MS. Excel to minimize the cost function:\n",
    "\n",
    "$J(a,b,c)=\\sum{(\\theta_{exp}[n] - \\theta[n])^2}   $\n",
    "\n",
    "At the minimum $J$ the corresponding values of $a*$, $b*$ and $c*$ are the optimal values we were looking for."
   ]
  }
 ],
 "metadata": {
  "kernelspec": {
   "display_name": "Python 3",
   "language": "python",
   "name": "python3"
  },
  "language_info": {
   "codemirror_mode": {
    "name": "ipython",
    "version": 3
   },
   "file_extension": ".py",
   "mimetype": "text/x-python",
   "name": "python",
   "nbconvert_exporter": "python",
   "pygments_lexer": "ipython3",
   "version": "3.6.4"
  }
 },
 "nbformat": 4,
 "nbformat_minor": 2
}
